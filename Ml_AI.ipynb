{
  "nbformat": 4,
  "nbformat_minor": 0,
  "metadata": {
    "colab": {
      "provenance": [],
      "authorship_tag": "ABX9TyO+nwQNI/9TXpP/DkVVtBc1",
      "include_colab_link": true
    },
    "kernelspec": {
      "name": "python3",
      "display_name": "Python 3"
    },
    "language_info": {
      "name": "python"
    }
  },
  "cells": [
    {
      "cell_type": "markdown",
      "metadata": {
        "id": "view-in-github",
        "colab_type": "text"
      },
      "source": [
        "<a href=\"https://colab.research.google.com/github/ShijinaS/ICT_Internship/blob/DAY-1/Ml_AI.ipynb\" target=\"_parent\"><img src=\"https://colab.research.google.com/assets/colab-badge.svg\" alt=\"Open In Colab\"/></a>"
      ]
    },
    {
      "cell_type": "code",
      "source": [
        "a=1\n",
        "while a<10:\n",
        "  print(a)\n",
        "  a+=2"
      ],
      "metadata": {
        "colab": {
          "base_uri": "https://localhost:8080/"
        },
        "id": "IQXPgsJusQUp",
        "outputId": "e1c728be-b5e4-462c-dfa9-b94e47b33020"
      },
      "execution_count": null,
      "outputs": [
        {
          "output_type": "stream",
          "name": "stdout",
          "text": [
            "1\n",
            "3\n",
            "5\n",
            "7\n",
            "9\n"
          ]
        }
      ]
    },
    {
      "cell_type": "code",
      "source": [
        "a=int(input(\"enter first number:\"))\n",
        "b=int(input(\"enter second number:\"))\n",
        "print('select operation:')\n",
        "print('1.addition:')\n",
        "print('2.subtraction:')\n",
        "print('3.division:')\n",
        "print('4.multiplication:')\n",
        "n=int(input('enter your option:'))\n",
        "if(n==1):\n",
        "  r=a+b\n",
        "  print(r)\n",
        "elif(n==2):\n",
        "  r=a-b\n",
        "  print(r)\n",
        "elif(n==3):\n",
        "  r=a/b\n",
        "  print(r)\n",
        "elif(n==4):\n",
        "  r=a*b\n",
        "  print(r)\n",
        "else:\n",
        "    print('wrong input')\n"
      ],
      "metadata": {
        "colab": {
          "base_uri": "https://localhost:8080/"
        },
        "id": "RxDQ5nk4xPNL",
        "outputId": "57abe829-3928-4b05-8865-539a87e195c3"
      },
      "execution_count": null,
      "outputs": [
        {
          "output_type": "stream",
          "name": "stdout",
          "text": [
            "enter first number:6\n",
            "enter second number:8\n",
            "select operation:\n",
            "1.addition:\n",
            "2.subtraction:\n",
            "3.division:\n",
            "4.multiplication:\n",
            "enter your option:4\n",
            "48\n"
          ]
        }
      ]
    },
    {
      "cell_type": "code",
      "source": [
        "num = int(input(\"enter the number:\"))\n",
        "c=0\n",
        "i=1\n",
        "while(i<=num):\n",
        " if num%i==0:\n",
        "   c=c+1\n",
        " i=i+1\n",
        "if c==2:\n",
        "\n",
        "        print( \"number is prime\")\n",
        "else:\n",
        "    print(\" number is not a prime\")"
      ],
      "metadata": {
        "colab": {
          "base_uri": "https://localhost:8080/"
        },
        "id": "aUHexCXX3NMI",
        "outputId": "a05a6ed0-1ac1-4036-e80f-87480cea6a23"
      },
      "execution_count": null,
      "outputs": [
        {
          "output_type": "stream",
          "name": "stdout",
          "text": [
            "enter the number:1\n",
            " number is not a prime\n"
          ]
        }
      ]
    },
    {
      "cell_type": "code",
      "source": [
        "year=int(input(\"enter the number:\"))\n",
        "if year%4==0:\n",
        "  print(\"leap year\")\n",
        "elif year%400==0:\n",
        "  print(\"leap year\")\n",
        "else:\n",
        "  print(\" not leap year\")"
      ],
      "metadata": {
        "colab": {
          "base_uri": "https://localhost:8080/"
        },
        "id": "pUfFNN5S7vPQ",
        "outputId": "148a2efb-3078-4df6-851a-d7276dd84b7a"
      },
      "execution_count": null,
      "outputs": [
        {
          "output_type": "stream",
          "name": "stdout",
          "text": [
            "enter the number:2023\n",
            " not leap year\n"
          ]
        }
      ]
    },
    {
      "cell_type": "code",
      "source": [
        "a=int(input(\"enter the number:\"))\n",
        "s=0\n",
        "for i in range(0,a+1):\n",
        "  s=s+i\n",
        "print(\"the sum is:\",s)"
      ],
      "metadata": {
        "colab": {
          "base_uri": "https://localhost:8080/"
        },
        "id": "IY8owPG8-yq1",
        "outputId": "bc653646-f78c-41c3-e2a2-8bb2b2c3d5a9"
      },
      "execution_count": null,
      "outputs": [
        {
          "output_type": "stream",
          "name": "stdout",
          "text": [
            "enter the number:12\n",
            "the sum is: 78\n"
          ]
        }
      ]
    },
    {
      "cell_type": "code",
      "source": [
        "def greet():\n",
        "  print('hello')"
      ],
      "metadata": {
        "id": "tQh_CqWnGwPR"
      },
      "execution_count": null,
      "outputs": []
    },
    {
      "cell_type": "code",
      "source": [
        "greet()"
      ],
      "metadata": {
        "colab": {
          "base_uri": "https://localhost:8080/"
        },
        "id": "bPZhVIx2HAmS",
        "outputId": "0b32cab0-f8e8-481f-897a-9b6c64cc09a3"
      },
      "execution_count": null,
      "outputs": [
        {
          "output_type": "stream",
          "name": "stdout",
          "text": [
            "hello\n"
          ]
        }
      ]
    },
    {
      "cell_type": "code",
      "source": [
        "def addnumber(num1,num2):\n",
        "  sum=num1+num2\n",
        "  print(sum)"
      ],
      "metadata": {
        "id": "8fQzlmdPE7yK"
      },
      "execution_count": null,
      "outputs": []
    },
    {
      "cell_type": "code",
      "source": [
        "addnumber(4,5)"
      ],
      "metadata": {
        "colab": {
          "base_uri": "https://localhost:8080/"
        },
        "id": "_bESXDy2GoWl",
        "outputId": "b125d536-e9b5-4f45-d3a0-94c06d82136d"
      },
      "execution_count": null,
      "outputs": [
        {
          "output_type": "stream",
          "name": "stdout",
          "text": [
            "9\n"
          ]
        }
      ]
    },
    {
      "cell_type": "code",
      "source": [
        "def squarenumber(num1):\n",
        " square =num1*num1\n",
        " print(square)\n",
        "squarenumber(10)\n"
      ],
      "metadata": {
        "colab": {
          "base_uri": "https://localhost:8080/"
        },
        "id": "nkmXFw5nJf79",
        "outputId": "b70250d4-0b50-4ba8-fb89-3ff367ead2f1"
      },
      "execution_count": null,
      "outputs": [
        {
          "output_type": "stream",
          "name": "stdout",
          "text": [
            "100\n"
          ]
        }
      ]
    },
    {
      "cell_type": "code",
      "source": [
        "def sqr(a):\n",
        "  print(\"square of the number is :\" ,a*a)\n",
        "\n",
        "n=int(input(\"enter the number:\")) \n",
        "sqr(n) "
      ],
      "metadata": {
        "colab": {
          "base_uri": "https://localhost:8080/"
        },
        "id": "7DjGfc5aK0pO",
        "outputId": "0d4e6e19-1044-4d8c-f38d-d00d76bf05a8"
      },
      "execution_count": null,
      "outputs": [
        {
          "output_type": "stream",
          "name": "stdout",
          "text": [
            "enter the number:5\n",
            "square of the number is : 25\n"
          ]
        }
      ]
    }
  ]
}