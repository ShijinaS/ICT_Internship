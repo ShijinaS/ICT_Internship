{
  "nbformat": 4,
  "nbformat_minor": 0,
  "metadata": {
    "colab": {
      "provenance": [],
      "authorship_tag": "ABX9TyNdrWz9svESzB3gXPiLPY6Y",
      "include_colab_link": true
    },
    "kernelspec": {
      "name": "python3",
      "display_name": "Python 3"
    },
    "language_info": {
      "name": "python"
    }
  },
  "cells": [
    {
      "cell_type": "markdown",
      "metadata": {
        "id": "view-in-github",
        "colab_type": "text"
      },
      "source": [
        "<a href=\"https://colab.research.google.com/github/ShijinaS/ICT_Internship/blob/DAY-1/ML_AI_D1.ipynb\" target=\"_parent\"><img src=\"https://colab.research.google.com/assets/colab-badge.svg\" alt=\"Open In Colab\"/></a>"
      ]
    },
    {
      "cell_type": "code",
      "source": [
        "a=1\n",
        "while a<10:\n",
        "  print(a)\n",
        "  a+=2"
      ],
      "metadata": {
        "colab": {
          "base_uri": "https://localhost:8080/"
        },
        "id": "IQXPgsJusQUp",
        "outputId": "e1c728be-b5e4-462c-dfa9-b94e47b33020"
      },
      "execution_count": null,
      "outputs": [
        {
          "output_type": "stream",
          "name": "stdout",
          "text": [
            "1\n",
            "3\n",
            "5\n",
            "7\n",
            "9\n"
          ]
        }
      ]
    },
    {
      "cell_type": "code",
      "source": [
        "a=int(input(\"enter first number:\"))\n",
        "b=int(input(\"enter second number:\"))\n",
        "print('select operation:')\n",
        "print('1.addition:')\n",
        "print('2.subtraction:')\n",
        "print('3.division:')\n",
        "print('4.multiplication:')\n",
        "n=int(input('enter your option:'))\n",
        "if(n==1):\n",
        "  r=a+b\n",
        "  print(r)\n",
        "elif(n==2):\n",
        "  r=a-b\n",
        "  print(r)\n",
        "elif(n==3):\n",
        "  r=a/b\n",
        "  print(r)\n",
        "elif(n==4):\n",
        "  r=a*b\n",
        "  print(r)\n",
        "else:\n",
        "    print('wrong input')\n"
      ],
      "metadata": {
        "colab": {
          "base_uri": "https://localhost:8080/"
        },
        "id": "RxDQ5nk4xPNL",
        "outputId": "57abe829-3928-4b05-8865-539a87e195c3"
      },
      "execution_count": null,
      "outputs": [
        {
          "output_type": "stream",
          "name": "stdout",
          "text": [
            "enter first number:6\n",
            "enter second number:8\n",
            "select operation:\n",
            "1.addition:\n",
            "2.subtraction:\n",
            "3.division:\n",
            "4.multiplication:\n",
            "enter your option:4\n",
            "48\n"
          ]
        }
      ]
    },
    {
      "cell_type": "code",
      "source": [
        "num = int(input(\"enter the number:\"))\n",
        "c=0\n",
        "i=1\n",
        "while(i<=num):\n",
        " if num%i==0:\n",
        "   c=c+1\n",
        " i=i+1\n",
        "if c==2:\n",
        "\n",
        "        print( \"number is prime\")\n",
        "else:\n",
        "    print(\" number is not a prime\")"
      ],
      "metadata": {
        "colab": {
          "base_uri": "https://localhost:8080/"
        },
        "id": "aUHexCXX3NMI",
        "outputId": "a05a6ed0-1ac1-4036-e80f-87480cea6a23"
      },
      "execution_count": null,
      "outputs": [
        {
          "output_type": "stream",
          "name": "stdout",
          "text": [
            "enter the number:1\n",
            " number is not a prime\n"
          ]
        }
      ]
    },
    {
      "cell_type": "code",
      "source": [
        "year=int(input(\"enter the number:\"))\n",
        "if year%4==0:\n",
        "  print(\"leap year\")\n",
        "elif year%400==0:\n",
        "  print(\"leap year\")\n",
        "else:\n",
        "  print(\" not leap year\")"
      ],
      "metadata": {
        "colab": {
          "base_uri": "https://localhost:8080/"
        },
        "id": "pUfFNN5S7vPQ",
        "outputId": "148a2efb-3078-4df6-851a-d7276dd84b7a"
      },
      "execution_count": null,
      "outputs": [
        {
          "output_type": "stream",
          "name": "stdout",
          "text": [
            "enter the number:2023\n",
            " not leap year\n"
          ]
        }
      ]
    },
    {
      "cell_type": "code",
      "source": [
        "a=int(input(\"enter the number:\"))\n",
        "s=0\n",
        "for i in range(0,a+1):\n",
        "  s=s+i\n",
        "print(\"the sum is:\",s)"
      ],
      "metadata": {
        "colab": {
          "base_uri": "https://localhost:8080/"
        },
        "id": "IY8owPG8-yq1",
        "outputId": "bc653646-f78c-41c3-e2a2-8bb2b2c3d5a9"
      },
      "execution_count": null,
      "outputs": [
        {
          "output_type": "stream",
          "name": "stdout",
          "text": [
            "enter the number:12\n",
            "the sum is: 78\n"
          ]
        }
      ]
    },
    {
      "cell_type": "code",
      "source": [
        "list=[1,5,3,14,25,21]\n",
        "s=0\n",
        "for i in list :\n",
        "  s=s+i\n",
        "print(\"the sum is:\",s)"
      ],
      "metadata": {
        "colab": {
          "base_uri": "https://localhost:8080/"
        },
        "id": "YTqT9wxCqqtg",
        "outputId": "8f2ff997-da3e-4cf2-ae63-713b70db7f8b"
      },
      "execution_count": null,
      "outputs": [
        {
          "output_type": "stream",
          "name": "stdout",
          "text": [
            "the sum is: 69\n"
          ]
        }
      ]
    },
    {
      "cell_type": "code",
      "source": [
        "str= input(\"enter the string:\")\n",
        "print(len(str))\n",
        "print(len(str)//2)"
      ],
      "metadata": {
        "colab": {
          "base_uri": "https://localhost:8080/"
        },
        "id": "urjsS7DvsDBg",
        "outputId": "87a10fa3-dfb6-4fe8-ae3a-03e98562f111"
      },
      "execution_count": null,
      "outputs": [
        {
          "output_type": "stream",
          "name": "stdout",
          "text": [
            "enter the string:computer science\n",
            "16\n",
            "8\n"
          ]
        }
      ]
    },
    {
      "cell_type": "code",
      "source": [
        "string1=input(\"enter the first string:\")\n",
        "string2=input(\"enter the second string:\")\n",
        "newstring = string1+\" \"+string2\n",
        "print(\"sum of the two strings are:\",newstring)\n",
        "print(len(newstring))"
      ],
      "metadata": {
        "colab": {
          "base_uri": "https://localhost:8080/"
        },
        "id": "IkOTurPotTAr",
        "outputId": "4a0dea84-ad6f-4e0d-a65a-3750b6d2ac40"
      },
      "execution_count": null,
      "outputs": [
        {
          "output_type": "stream",
          "name": "stdout",
          "text": [
            "enter the first string:fathima\n",
            "enter the second string:fathimasalim\n",
            "sum of the two strings are: fathima fathimasalim\n",
            "20\n"
          ]
        }
      ]
    },
    {
      "cell_type": "code",
      "source": [
        "list = [19,32,10,55,31,32,94,29,10,65,77,40,40]\n",
        "list.remove(32)\n",
        "while 40 in list :\n",
        "    list.remove(40)\n",
        "del list[5]\n",
        "list[8]=300\n",
        "list[2]+=200\n",
        "print(\"the final list is:\",list)\n",
        "print(\"length of final list:\",len(list))\n",
        "print(\"maximum value:\",max(list))\n",
        "print(\"the sum of final list is:\",sum(list))"
      ],
      "metadata": {
        "id": "2yvljoobvKFm",
        "colab": {
          "base_uri": "https://localhost:8080/"
        },
        "outputId": "a613897c-9f20-47aa-f266-1fa8db0c46b6"
      },
      "execution_count": null,
      "outputs": [
        {
          "output_type": "stream",
          "name": "stdout",
          "text": [
            "the final list is: [19, 10, 255, 31, 32, 29, 10, 65, 300]\n",
            "length of final list: 9\n",
            "maximum value: 300\n",
            "the sum of final list is: 751\n"
          ]
        }
      ]
    },
    {
      "cell_type": "code",
      "source": [
        "t1 = ('78','45','32','19','82','77','40','39')\n",
        "list1 = list(t1)\n",
        "list1[2]=100\n",
        "print(list1)"
      ],
      "metadata": {
        "colab": {
          "base_uri": "https://localhost:8080/"
        },
        "id": "hVcbIkJ84KuM",
        "outputId": "b7a77766-1f11-484c-a4ef-5da18ef4db61"
      },
      "execution_count": null,
      "outputs": [
        {
          "output_type": "stream",
          "name": "stdout",
          "text": [
            "['78', '45', 100, '19', '82', '77', '40', '39']\n"
          ]
        }
      ]
    }
  ]
}