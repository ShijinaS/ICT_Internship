{
  "nbformat": 4,
  "nbformat_minor": 0,
  "metadata": {
    "colab": {
      "provenance": [],
      "authorship_tag": "ABX9TyPkRr+UWP9kZ9+7rSGHOqaq",
      "include_colab_link": true
    },
    "kernelspec": {
      "name": "python3",
      "display_name": "Python 3"
    },
    "language_info": {
      "name": "python"
    }
  },
  "cells": [
    {
      "cell_type": "markdown",
      "metadata": {
        "id": "view-in-github",
        "colab_type": "text"
      },
      "source": [
        "<a href=\"https://colab.research.google.com/github/ShijinaS/ICT_Internship/blob/DAY-1/ML_AI_D1.ipynb\" target=\"_parent\"><img src=\"https://colab.research.google.com/assets/colab-badge.svg\" alt=\"Open In Colab\"/></a>"
      ]
    },
    {
      "cell_type": "code",
      "source": [
        "a={'shijina','goutham','zara'}\n",
        "print(a)"
      ],
      "metadata": {
        "id": "UXrkr35XBcLI",
        "outputId": "e296c445-e808-4adf-9e1a-5e61a4ceda49",
        "colab": {
          "base_uri": "https://localhost:8080/"
        }
      },
      "execution_count": null,
      "outputs": [
        {
          "output_type": "stream",
          "name": "stdout",
          "text": [
            "{'goutham', 'zara', 'shijina'}\n"
          ]
        }
      ]
    },
    {
      "cell_type": "code",
      "source": [
        "print(a)"
      ],
      "metadata": {
        "id": "-gVWBxQUB65P",
        "outputId": "f594a363-178f-4a47-cf2b-8f1a765f9b48",
        "colab": {
          "base_uri": "https://localhost:8080/"
        }
      },
      "execution_count": null,
      "outputs": [
        {
          "output_type": "stream",
          "name": "stdout",
          "text": [
            "{'goutham', 'zara', 'shijina'}\n"
          ]
        }
      ]
    },
    {
      "cell_type": "code",
      "source": [
        "names= ['shijina', 'aisha', 'fathima', 'priya']\n",
        "\n",
        "for i in range(len(names))//2):\n",
        "    temp = names[i]\n",
        "    names[i] = names[-i-1]\n",
        "    names[-i-1] = temp\n",
        "\n",
        "print(names)"
      ],
      "metadata": {
        "id": "B37w5la4Cqe_",
        "outputId": "79df3ed8-9e36-4154-ed0f-33285729c276",
        "colab": {
          "base_uri": "https://localhost:8080/",
          "height": 131
        }
      },
      "execution_count": null,
      "outputs": [
        {
          "output_type": "error",
          "ename": "SyntaxError",
          "evalue": "ignored",
          "traceback": [
            "\u001b[0;36m  File \u001b[0;32m\"<ipython-input-5-a25f94693a5b>\"\u001b[0;36m, line \u001b[0;32m3\u001b[0m\n\u001b[0;31m    for i in range(len(names))//2):\u001b[0m\n\u001b[0m                                 ^\u001b[0m\n\u001b[0;31mSyntaxError\u001b[0m\u001b[0;31m:\u001b[0m unmatched ')'\n"
          ]
        }
      ]
    },
    {
      "cell_type": "code",
      "source": [
        "print(233)\n",
        "print(4.9)"
      ],
      "metadata": {
        "id": "w4eWOZESCdrj",
        "outputId": "849a79bb-920b-4a9f-8dd2-c95f66c58554",
        "colab": {
          "base_uri": "https://localhost:8080/"
        }
      },
      "execution_count": null,
      "outputs": [
        {
          "output_type": "stream",
          "name": "stdout",
          "text": [
            "233\n",
            "4.9\n"
          ]
        }
      ]
    },
    {
      "cell_type": "code",
      "source": [
        "print(\"welcome to\",end='')\n",
        "print(\"the world of python\",end='')\n",
        "print(\"\\\"welcome to the world or python\\\"\")"
      ],
      "metadata": {
        "id": "HLHG2nM4DHcl",
        "outputId": "5d849934-aa4d-47ad-a1ca-1ddb79ffaea7",
        "colab": {
          "base_uri": "https://localhost:8080/"
        }
      },
      "execution_count": null,
      "outputs": [
        {
          "output_type": "stream",
          "name": "stdout",
          "text": [
            "welcome tothe world of python\"welcome to the world or python\"\n"
          ]
        }
      ]
    },
    {
      "cell_type": "code",
      "source": [
        "print(\"python\"*3)"
      ],
      "metadata": {
        "id": "2whf-kAzDaaj",
        "outputId": "75c8b45c-2d15-4851-c04b-f31728bd13bf",
        "colab": {
          "base_uri": "https://localhost:8080/"
        }
      },
      "execution_count": null,
      "outputs": [
        {
          "output_type": "stream",
          "name": "stdout",
          "text": [
            "pythonpythonpython\n"
          ]
        }
      ]
    },
    {
      "cell_type": "code",
      "source": [
        "print(\"python\\n\"*3)"
      ],
      "metadata": {
        "id": "dbk79KGyDpO7",
        "outputId": "3402bb9e-7ea6-4515-e786-e11c20336620",
        "colab": {
          "base_uri": "https://localhost:8080/"
        }
      },
      "execution_count": null,
      "outputs": [
        {
          "output_type": "stream",
          "name": "stdout",
          "text": [
            "python\n",
            "python\n",
            "python\n",
            "\n"
          ]
        }
      ]
    },
    {
      "cell_type": "code",
      "source": [
        "s=\"python\"\n",
        "print(s[0])\n",
        "print(s[-3])\n",
        "print(s[1])\n",
        "print(len(s))"
      ],
      "metadata": {
        "id": "svG2JbdbD1Ku",
        "outputId": "fd1ed0c2-78a7-4e28-88b9-ea5e1f693b6e",
        "colab": {
          "base_uri": "https://localhost:8080/"
        }
      },
      "execution_count": null,
      "outputs": [
        {
          "output_type": "stream",
          "name": "stdout",
          "text": [
            "p\n",
            "h\n",
            "y\n",
            "6\n"
          ]
        }
      ]
    },
    {
      "cell_type": "code",
      "source": [],
      "metadata": {
        "id": "l7YkoJEzEd73"
      },
      "execution_count": null,
      "outputs": []
    },
    {
      "cell_type": "code",
      "source": [
        "s=\"python\"\n",
        "print(s[0:4])\n",
        "print(s[:3])\n",
        "print(s[-5:-2])\n",
        "print(s[0:6:2])"
      ],
      "metadata": {
        "colab": {
          "base_uri": "https://localhost:8080/"
        },
        "id": "GKlNDnVCEYnM",
        "outputId": "034c305d-32b7-4281-fe85-8f75e3122e00"
      },
      "execution_count": null,
      "outputs": [
        {
          "output_type": "stream",
          "name": "stdout",
          "text": [
            "pyth\n",
            "pyt\n",
            "yth\n",
            "pto\n"
          ]
        }
      ]
    },
    {
      "cell_type": "code",
      "source": [
        "a=1\n",
        "while a<10:\n",
        "  print(a)\n",
        "  a+=2"
      ],
      "metadata": {
        "colab": {
          "base_uri": "https://localhost:8080/"
        },
        "id": "IQXPgsJusQUp",
        "outputId": "e1c728be-b5e4-462c-dfa9-b94e47b33020"
      },
      "execution_count": null,
      "outputs": [
        {
          "output_type": "stream",
          "name": "stdout",
          "text": [
            "1\n",
            "3\n",
            "5\n",
            "7\n",
            "9\n"
          ]
        }
      ]
    },
    {
      "cell_type": "code",
      "source": [
        "a=int(input(\"enter first number:\"))\n",
        "b=int(input(\"enter second number:\"))\n",
        "print('select operation:')\n",
        "print('1.addition:')\n",
        "print('2.subtraction:')\n",
        "print('3.division:')\n",
        "print('4.multiplication:')\n",
        "n=int(input('enter your option:'))\n",
        "if(n==1):\n",
        "  r=a+b\n",
        "  print(r)\n",
        "elif(n==2):\n",
        "  r=a-b\n",
        "  print(r)\n",
        "elif(n==3):\n",
        "  r=a/b\n",
        "  print(r)\n",
        "elif(n==4):\n",
        "  r=a*b\n",
        "  print(r)\n",
        "else:\n",
        "    print('wrong input')\n"
      ],
      "metadata": {
        "colab": {
          "base_uri": "https://localhost:8080/"
        },
        "id": "RxDQ5nk4xPNL",
        "outputId": "57abe829-3928-4b05-8865-539a87e195c3"
      },
      "execution_count": null,
      "outputs": [
        {
          "output_type": "stream",
          "name": "stdout",
          "text": [
            "enter first number:6\n",
            "enter second number:8\n",
            "select operation:\n",
            "1.addition:\n",
            "2.subtraction:\n",
            "3.division:\n",
            "4.multiplication:\n",
            "enter your option:4\n",
            "48\n"
          ]
        }
      ]
    },
    {
      "cell_type": "code",
      "source": [
        "num = int(input(\"enter the number:\"))\n",
        "c=0\n",
        "i=1\n",
        "while(i<=num):\n",
        " if num%i==0:\n",
        "   c=c+1\n",
        " i=i+1\n",
        "if c==2:\n",
        "\n",
        "        print( \"number is prime\")\n",
        "else:\n",
        "    print(\" number is not a prime\")"
      ],
      "metadata": {
        "colab": {
          "base_uri": "https://localhost:8080/"
        },
        "id": "aUHexCXX3NMI",
        "outputId": "a05a6ed0-1ac1-4036-e80f-87480cea6a23"
      },
      "execution_count": null,
      "outputs": [
        {
          "output_type": "stream",
          "name": "stdout",
          "text": [
            "enter the number:1\n",
            " number is not a prime\n"
          ]
        }
      ]
    },
    {
      "cell_type": "code",
      "source": [
        "year=int(input(\"enter the number:\"))\n",
        "if year%4==0:\n",
        "  print(\"leap year\")\n",
        "elif year%400==0:\n",
        "  print(\"leap year\")\n",
        "else:\n",
        "  print(\" not leap year\")"
      ],
      "metadata": {
        "colab": {
          "base_uri": "https://localhost:8080/"
        },
        "id": "pUfFNN5S7vPQ",
        "outputId": "148a2efb-3078-4df6-851a-d7276dd84b7a"
      },
      "execution_count": null,
      "outputs": [
        {
          "output_type": "stream",
          "name": "stdout",
          "text": [
            "enter the number:2023\n",
            " not leap year\n"
          ]
        }
      ]
    },
    {
      "cell_type": "code",
      "source": [
        "a=int(input(\"enter the number:\"))\n",
        "s=0\n",
        "for i in range(0,a+1):\n",
        "  s=s+i\n",
        "print(\"the sum is:\",s)"
      ],
      "metadata": {
        "colab": {
          "base_uri": "https://localhost:8080/"
        },
        "id": "IY8owPG8-yq1",
        "outputId": "bc653646-f78c-41c3-e2a2-8bb2b2c3d5a9"
      },
      "execution_count": null,
      "outputs": [
        {
          "output_type": "stream",
          "name": "stdout",
          "text": [
            "enter the number:12\n",
            "the sum is: 78\n"
          ]
        }
      ]
    },
    {
      "cell_type": "code",
      "source": [
        "list=[1,5,3,14,25,21]\n",
        "s=0\n",
        "for i in list :\n",
        "  s=s+i\n",
        "print(\"the sum is:\",s)"
      ],
      "metadata": {
        "colab": {
          "base_uri": "https://localhost:8080/"
        },
        "id": "YTqT9wxCqqtg",
        "outputId": "8f2ff997-da3e-4cf2-ae63-713b70db7f8b"
      },
      "execution_count": null,
      "outputs": [
        {
          "output_type": "stream",
          "name": "stdout",
          "text": [
            "the sum is: 69\n"
          ]
        }
      ]
    },
    {
      "cell_type": "code",
      "source": [
        "str= input(\"enter the string:\")\n",
        "print(len(str))\n",
        "print(len(str)//2)"
      ],
      "metadata": {
        "colab": {
          "base_uri": "https://localhost:8080/"
        },
        "id": "urjsS7DvsDBg",
        "outputId": "87a10fa3-dfb6-4fe8-ae3a-03e98562f111"
      },
      "execution_count": null,
      "outputs": [
        {
          "output_type": "stream",
          "name": "stdout",
          "text": [
            "enter the string:computer science\n",
            "16\n",
            "8\n"
          ]
        }
      ]
    },
    {
      "cell_type": "code",
      "source": [
        "string1=input(\"enter the first string:\")\n",
        "string2=input(\"enter the second string:\")\n",
        "newstring = string1+\" \"+string2\n",
        "print(\"sum of the two strings are:\",newstring)\n",
        "print(len(newstring))"
      ],
      "metadata": {
        "colab": {
          "base_uri": "https://localhost:8080/"
        },
        "id": "IkOTurPotTAr",
        "outputId": "4a0dea84-ad6f-4e0d-a65a-3750b6d2ac40"
      },
      "execution_count": null,
      "outputs": [
        {
          "output_type": "stream",
          "name": "stdout",
          "text": [
            "enter the first string:fathima\n",
            "enter the second string:fathimasalim\n",
            "sum of the two strings are: fathima fathimasalim\n",
            "20\n"
          ]
        }
      ]
    },
    {
      "cell_type": "code",
      "source": [
        "list = [19,32,10,55,31,32,94,29,10,65,77,40,40]\n",
        "list.remove(32)\n",
        "while 40 in list :\n",
        "    list.remove(40)\n",
        "del list[5]\n",
        "list[8]=300\n",
        "list[2]+=200\n",
        "print(\"the final list is:\",list)\n",
        "print(\"length of final list:\",len(list))\n",
        "print(\"maximum value:\",max(list))\n",
        "print(\"the sum of final list is:\",sum(list))"
      ],
      "metadata": {
        "id": "2yvljoobvKFm",
        "colab": {
          "base_uri": "https://localhost:8080/"
        },
        "outputId": "a613897c-9f20-47aa-f266-1fa8db0c46b6"
      },
      "execution_count": null,
      "outputs": [
        {
          "output_type": "stream",
          "name": "stdout",
          "text": [
            "the final list is: [19, 10, 255, 31, 32, 29, 10, 65, 300]\n",
            "length of final list: 9\n",
            "maximum value: 300\n",
            "the sum of final list is: 751\n"
          ]
        }
      ]
    },
    {
      "cell_type": "code",
      "source": [
        "t1 = ('78','45','32','19','82','77','40','39')\n",
        "list1 = list(t1)\n",
        "list1[2]=100\n",
        "print(list1)"
      ],
      "metadata": {
        "colab": {
          "base_uri": "https://localhost:8080/"
        },
        "id": "hVcbIkJ84KuM",
        "outputId": "b7a77766-1f11-484c-a4ef-5da18ef4db61"
      },
      "execution_count": null,
      "outputs": [
        {
          "output_type": "stream",
          "name": "stdout",
          "text": [
            "['78', '45', 100, '19', '82', '77', '40', '39']\n"
          ]
        }
      ]
    },
    {
      "cell_type": "code",
      "source": [
        "def greet():\n",
        "  print('hello')"
      ],
      "metadata": {
        "id": "zEKrva9gJf3g"
      },
      "execution_count": null,
      "outputs": []
    },
    {
      "cell_type": "code",
      "source": [
        "greet()"
      ],
      "metadata": {
        "colab": {
          "base_uri": "https://localhost:8080/"
        },
        "id": "kOYR1sG-Jun6",
        "outputId": "938b9560-1947-494a-e4d9-70156dc841fb"
      },
      "execution_count": null,
      "outputs": [
        {
          "output_type": "stream",
          "name": "stdout",
          "text": [
            "hello\n"
          ]
        }
      ]
    },
    {
      "cell_type": "code",
      "source": [
        "def addnumber(num1,num2):\n",
        "  sum=num1+num2\n",
        "  print(sum)\n",
        "     "
      ],
      "metadata": {
        "id": "c3s4_t4GKGUP"
      },
      "execution_count": null,
      "outputs": []
    },
    {
      "cell_type": "code",
      "source": [
        "addnumber(4,5)"
      ],
      "metadata": {
        "colab": {
          "base_uri": "https://localhost:8080/"
        },
        "id": "zz_YCIoPKK1O",
        "outputId": "314f5d2e-d826-4763-c3a5-e3edba2ee028"
      },
      "execution_count": null,
      "outputs": [
        {
          "output_type": "stream",
          "name": "stdout",
          "text": [
            "9\n"
          ]
        }
      ]
    },
    {
      "cell_type": "code",
      "source": [
        "def squarenumber(num1):\n",
        " square =num1*num1\n",
        " print(square)\n",
        "squarenumber(10)\n"
      ],
      "metadata": {
        "colab": {
          "base_uri": "https://localhost:8080/"
        },
        "id": "ZOJZ23rRKQXR",
        "outputId": "76e0f237-3f74-44c8-fc51-edcd67426606"
      },
      "execution_count": null,
      "outputs": [
        {
          "output_type": "stream",
          "name": "stdout",
          "text": [
            "100\n"
          ]
        }
      ]
    },
    {
      "cell_type": "code",
      "source": [
        "def sqr(a):\n",
        "  print(\"square of the number is :\" ,a*a)\n",
        "\n",
        "n=int(input(\"enter the number:\")) \n",
        "sqr(n) "
      ],
      "metadata": {
        "colab": {
          "base_uri": "https://localhost:8080/"
        },
        "id": "1LS1GYZmKWyz",
        "outputId": "0d264328-2320-421d-925e-3b6b9d0efa44"
      },
      "execution_count": null,
      "outputs": [
        {
          "output_type": "stream",
          "name": "stdout",
          "text": [
            "enter the number:45\n",
            "square of the number is : 2025\n"
          ]
        }
      ]
    }
  ]
}