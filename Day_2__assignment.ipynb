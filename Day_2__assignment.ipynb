{
  "nbformat": 4,
  "nbformat_minor": 0,
  "metadata": {
    "colab": {
      "provenance": [],
      "include_colab_link": true
    },
    "kernelspec": {
      "name": "python3",
      "display_name": "Python 3"
    },
    "language_info": {
      "name": "python"
    }
  },
  "cells": [
    {
      "cell_type": "markdown",
      "metadata": {
        "id": "view-in-github",
        "colab_type": "text"
      },
      "source": [
        "<a href=\"https://colab.research.google.com/github/ShijinaS/ICT_Internship/blob/DAY-2/Day_2__assignment.ipynb\" target=\"_parent\"><img src=\"https://colab.research.google.com/assets/colab-badge.svg\" alt=\"Open In Colab\"/></a>"
      ]
    },
    {
      "cell_type": "code",
      "execution_count": null,
      "metadata": {
        "id": "Qinoz3P52kEw"
      },
      "outputs": [],
      "source": []
    },
    {
      "cell_type": "markdown",
      "source": [
        "This is a fruit list, [’banana’, ’orange’, ’mango’, ’lemon’] reverse the order using loop.\n"
      ],
      "metadata": {
        "id": "z3FS6dBi2r2Z"
      }
    },
    {
      "cell_type": "code",
      "source": [
        "fruits = ['banana', 'orange', 'mango', 'lemon']\n",
        "\n",
        "for i in range(len(fruits)//2):\n",
        "    temp = fruits[i]\n",
        "    fruits[i] = fruits[-i-1]\n",
        "    fruits[-i-1] = temp\n",
        "\n",
        "print(fruits)"
      ],
      "metadata": {
        "colab": {
          "base_uri": "https://localhost:8080/"
        },
        "id": "oMBSxEe16zoW",
        "outputId": "c0fc9bf5-8c3e-4466-d859-2cff4c5413b4"
      },
      "execution_count": null,
      "outputs": [
        {
          "output_type": "stream",
          "name": "stdout",
          "text": [
            "['lemon', 'mango', 'orange', 'banana']\n"
          ]
        }
      ]
    },
    {
      "cell_type": "markdown",
      "source": [
        "Write a python program to print the first 10 numbers Fibonacci series"
      ],
      "metadata": {
        "id": "bqOMhdFo7EcW"
      }
    },
    {
      "cell_type": "code",
      "source": [
        "a, b = 0, 1\n",
        "\n",
        "for i in range(10):\n",
        "    print(a)\n",
        "    a, b = b, a+b"
      ],
      "metadata": {
        "colab": {
          "base_uri": "https://localhost:8080/"
        },
        "id": "JLOw8aFP7KZO",
        "outputId": "43035c4f-71bb-4dd1-b6a9-d39b02a148f2"
      },
      "execution_count": null,
      "outputs": [
        {
          "output_type": "stream",
          "name": "stdout",
          "text": [
            "0\n",
            "1\n",
            "1\n",
            "2\n",
            "3\n",
            "5\n",
            "8\n",
            "13\n",
            "21\n",
            "34\n"
          ]
        }
      ]
    },
    {
      "cell_type": "markdown",
      "source": [
        "Write a python program to print all prime numbers between 0 to 100 , and print how\n",
        "many prime numbers are there."
      ],
      "metadata": {
        "id": "8q3zHL9C71Qf"
      }
    },
    {
      "cell_type": "code",
      "source": [
        "\n",
        "def is_prime(num):\n",
        "    if num < 2:\n",
        "        return False\n",
        "    for i in range(2, int(num**0.5) + 1):\n",
        "        if num % i == 0:\n",
        "            return False\n",
        "    return True\n",
        "\n",
        "\n",
        "count = 0\n",
        "for i in range(0, 101):\n",
        "    if is_prime(i):\n",
        "        print(i)\n",
        "        count += 1\n",
        "\n",
        "\n",
        "print(\"There are\", count, \"prime numbers between 0 and 100.\")"
      ],
      "metadata": {
        "colab": {
          "base_uri": "https://localhost:8080/"
        },
        "id": "V1WFtrA6738p",
        "outputId": "05eb8f43-39f5-4d3b-ff01-85aaf4cda126"
      },
      "execution_count": null,
      "outputs": [
        {
          "output_type": "stream",
          "name": "stdout",
          "text": [
            "2\n",
            "3\n",
            "5\n",
            "7\n",
            "11\n",
            "13\n",
            "17\n",
            "19\n",
            "23\n",
            "29\n",
            "31\n",
            "37\n",
            "41\n",
            "43\n",
            "47\n",
            "53\n",
            "59\n",
            "61\n",
            "67\n",
            "71\n",
            "73\n",
            "79\n",
            "83\n",
            "89\n",
            "97\n",
            "There are 25 prime numbers between 0 and 100.\n"
          ]
        }
      ]
    },
    {
      "cell_type": "markdown",
      "source": [
        "Write a python program to read a number ,if it is an even number , print the square of that\n",
        "number and if it is odd number print cube of that number"
      ],
      "metadata": {
        "id": "kVoMCMY78ksc"
      }
    },
    {
      "cell_type": "code",
      "source": [
        "number = int(input(\"Enter a number: \"))\n",
        "\n",
        "if number % 2 == 0:\n",
        "    square = number ** 2\n",
        "    print(\"The square of\", number, \"is\", square)\n",
        "else:\n",
        "    cube = number ** 3\n",
        "    print(\"The cube of\", number, \"is\", cube)"
      ],
      "metadata": {
        "colab": {
          "base_uri": "https://localhost:8080/"
        },
        "id": "6CRD1y-i8qpR",
        "outputId": "135d813a-b690-4fc3-9547-b0328cc7deba"
      },
      "execution_count": null,
      "outputs": [
        {
          "output_type": "stream",
          "name": "stdout",
          "text": [
            "Enter a number: 45\n",
            "The cube of 45 is 91125\n"
          ]
        }
      ]
    },
    {
      "cell_type": "markdown",
      "source": [
        "Write a python program to find the longest word in a given sentence"
      ],
      "metadata": {
        "id": "YHlfsn4o8-1X"
      }
    },
    {
      "cell_type": "code",
      "source": [
        "sentence = input(\"Enter a sentence: \")\n",
        "words = sentence.split()\n",
        "longest_word = \"\"\n",
        "for word in words:\n",
        "    if len(word) > len(longest_word):\n",
        "        longest_word = word\n",
        "print(\"The longest word in the sentence is:\", longest_word)"
      ],
      "metadata": {
        "colab": {
          "base_uri": "https://localhost:8080/"
        },
        "id": "_0ugG0Cz9E87",
        "outputId": "32fa0f4a-9cec-4739-c091-99e502929c5a"
      },
      "execution_count": null,
      "outputs": [
        {
          "output_type": "stream",
          "name": "stdout",
          "text": [
            "Enter a sentence: she is beautiful\n",
            "The longest word in the sentence is: beautiful\n"
          ]
        }
      ]
    },
    {
      "cell_type": "markdown",
      "source": [
        " Finding the average of 5 numbers using while loop\n"
      ],
      "metadata": {
        "id": "zfsmWHO3-wTo"
      }
    },
    {
      "cell_type": "code",
      "source": [
        "sum = 0\n",
        "count = 0\n",
        "while count < 5:\n",
        "    num = float(input(\"Enter a number: \"))\n",
        "    sum += num\n",
        "    count += 1\n",
        "avg = sum / 5\n",
        "print(\"The average of the 5 numbers is:\", avg)"
      ],
      "metadata": {
        "colab": {
          "base_uri": "https://localhost:8080/"
        },
        "id": "9ck3wH49-0vF",
        "outputId": "80726b3b-6c19-4914-ffd0-4b6eb15b002a"
      },
      "execution_count": null,
      "outputs": [
        {
          "output_type": "stream",
          "name": "stdout",
          "text": [
            "Enter a number: 50\n",
            "Enter a number: 34\n",
            "Enter a number: 12\n",
            "Enter a number: 45\n",
            "Enter a number: 17\n",
            "The average of the 5 numbers is: 31.6\n"
          ]
        }
      ]
    },
    {
      "cell_type": "markdown",
      "source": [
        "Python program to find the sum of the digits of an integer using while loop"
      ],
      "metadata": {
        "id": "TDuCU6F9_Iem"
      }
    },
    {
      "cell_type": "code",
      "source": [
        "num = int(input(\"Enter an integer: \"))\n",
        "sum = 0\n",
        "while num > 0:\n",
        "    digit = num % 10    \n",
        "    sum += digit        \n",
        "    num //= 10          \n",
        "print(\"The sum of the digits is:\", sum)"
      ],
      "metadata": {
        "colab": {
          "base_uri": "https://localhost:8080/"
        },
        "id": "NAUIlhhu_gni",
        "outputId": "951183c1-32b5-490a-dd33-1ae0aabe88fc"
      },
      "execution_count": null,
      "outputs": [
        {
          "output_type": "stream",
          "name": "stdout",
          "text": [
            "Enter an integer: 12\n",
            "The sum of the digits is: 3\n"
          ]
        }
      ]
    },
    {
      "cell_type": "markdown",
      "source": [
        " Arun took a loan of Rs1,00,000 at an interest of 5% to buy a car.\n",
        "Using the formula: interest = principal value * rate and amount = principal + interest, print\n",
        "the interest and amount to be paid for each of the next 5 years.\n"
      ],
      "metadata": {
        "id": "7Sv-wDQAAs7w"
      }
    },
    {
      "cell_type": "code",
      "source": [
        "principal = 100000\n",
        "rate = 0.05\n",
        "for i in range(1, 6):\n",
        "    interest = principal * rate\n",
        "    amount = principal + interest\n",
        "    print(\"Year\", i, \"Interest:\", interest, \"Amount:\", amount)\n",
        "    principal = amount"
      ],
      "metadata": {
        "colab": {
          "base_uri": "https://localhost:8080/"
        },
        "id": "neft9NcHA1NL",
        "outputId": "ece5f800-6939-46c8-d1e5-3dcb78c604db"
      },
      "execution_count": null,
      "outputs": [
        {
          "output_type": "stream",
          "name": "stdout",
          "text": [
            "Year 1 Interest: 5000.0 Amount: 105000.0\n",
            "Year 2 Interest: 5250.0 Amount: 110250.0\n",
            "Year 3 Interest: 5512.5 Amount: 115762.5\n",
            "Year 4 Interest: 5788.125 Amount: 121550.625\n",
            "Year 5 Interest: 6077.53125 Amount: 127628.15625\n"
          ]
        }
      ]
    },
    {
      "cell_type": "markdown",
      "source": [
        "Using if loop, find out if the year 2034 and 2048 are leap years"
      ],
      "metadata": {
        "id": "xvoC2psjA_-7"
      }
    },
    {
      "cell_type": "code",
      "source": [
        "if 2034 % 4 == 0:\n",
        "    if 2034 % 100 == 0:\n",
        "        if 2034 % 400 == 0:\n",
        "            print(\"2034 is a leap year\")\n",
        "        else:\n",
        "            print(\"2034 is not a leap year\")\n",
        "    else:\n",
        "        print(\"2034 is a leap year\")\n",
        "else:\n",
        "    print(\"2034 is not a leap year\")\n",
        "\n",
        "if 2048 % 4 == 0:\n",
        "    if 2048 % 100 == 0:\n",
        "        if 2048 % 400 == 0:\n",
        "            print(\"2048 is a leap year\")\n",
        "        else:\n",
        "            print(\"2048 is not a leap year\")\n",
        "    else:\n",
        "        print(\"2048 is a leap year\")\n",
        "else:\n",
        "    print(\"2048 is not a leap year\")"
      ],
      "metadata": {
        "colab": {
          "base_uri": "https://localhost:8080/"
        },
        "id": "tw4MMAW0B1r1",
        "outputId": "05e14aac-4451-4824-8cf9-ba363d07cf07"
      },
      "execution_count": null,
      "outputs": [
        {
          "output_type": "stream",
          "name": "stdout",
          "text": [
            "2034 is not a leap year\n",
            "2048 is a leap year\n"
          ]
        }
      ]
    }
  ]
}